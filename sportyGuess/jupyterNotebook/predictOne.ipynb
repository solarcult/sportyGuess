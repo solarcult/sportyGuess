{
 "cells": [
  {
   "cell_type": "code",
   "execution_count": 6,
   "metadata": {},
   "outputs": [],
   "source": [
    "import pymysql\n",
    "import sqlalchemy as sqla\n",
    "import pandas as pd\n",
    "import numpy as np\n",
    "import ipynb_importer\n",
    "import queryUtils\n",
    "from datetime import datetime"
   ]
  },
  {
   "cell_type": "code",
   "execution_count": 7,
   "metadata": {},
   "outputs": [],
   "source": [
    "tournament_page_name = 'Italy - Serie A'\n",
    "tournament_match_name = queryUtils.tournamentPage2Match(tournament_page_name)"
   ]
  },
  {
   "cell_type": "code",
   "execution_count": 8,
   "metadata": {},
   "outputs": [],
   "source": [
    "tournament_teams = queryUtils.list_latest_special_date_tournament_teams(tournament_match_name,datetime.now())"
   ]
  },
  {
   "cell_type": "code",
   "execution_count": 9,
   "metadata": {},
   "outputs": [
    {
     "data": {
      "text/html": [
       "<div>\n",
       "<style scoped>\n",
       "    .dataframe tbody tr th:only-of-type {\n",
       "        vertical-align: middle;\n",
       "    }\n",
       "\n",
       "    .dataframe tbody tr th {\n",
       "        vertical-align: top;\n",
       "    }\n",
       "\n",
       "    .dataframe thead th {\n",
       "        text-align: right;\n",
       "    }\n",
       "</style>\n",
       "<table border=\"1\" class=\"dataframe\">\n",
       "  <thead>\n",
       "    <tr style=\"text-align: right;\">\n",
       "      <th></th>\n",
       "      <th>id</th>\n",
       "      <th>tournament</th>\n",
       "      <th>date</th>\n",
       "      <th>no</th>\n",
       "      <th>team_name</th>\n",
       "      <th>team_link</th>\n",
       "      <th>team_id</th>\n",
       "      <th>played</th>\n",
       "      <th>win</th>\n",
       "      <th>draw</th>\n",
       "      <th>loss</th>\n",
       "      <th>goals_for</th>\n",
       "      <th>goals_against</th>\n",
       "      <th>goals_difference</th>\n",
       "      <th>points</th>\n",
       "      <th>sdate</th>\n",
       "    </tr>\n",
       "  </thead>\n",
       "  <tbody>\n",
       "    <tr>\n",
       "      <th>0</th>\n",
       "      <td>18979</td>\n",
       "      <td>Serie A</td>\n",
       "      <td>2019-09-05</td>\n",
       "      <td>1</td>\n",
       "      <td>Inter</td>\n",
       "      <td>https://www.whoscored.com/Teams/75/Show/Italy-...</td>\n",
       "      <td>75</td>\n",
       "      <td>2</td>\n",
       "      <td>2</td>\n",
       "      <td>0</td>\n",
       "      <td>0</td>\n",
       "      <td>6</td>\n",
       "      <td>1</td>\n",
       "      <td>5</td>\n",
       "      <td>6</td>\n",
       "      <td>05-09-2019</td>\n",
       "    </tr>\n",
       "    <tr>\n",
       "      <th>1</th>\n",
       "      <td>18980</td>\n",
       "      <td>Serie A</td>\n",
       "      <td>2019-09-05</td>\n",
       "      <td>2</td>\n",
       "      <td>Torino</td>\n",
       "      <td>https://www.whoscored.com/Teams/72/Show/Italy-...</td>\n",
       "      <td>72</td>\n",
       "      <td>2</td>\n",
       "      <td>2</td>\n",
       "      <td>0</td>\n",
       "      <td>0</td>\n",
       "      <td>5</td>\n",
       "      <td>3</td>\n",
       "      <td>2</td>\n",
       "      <td>6</td>\n",
       "      <td>05-09-2019</td>\n",
       "    </tr>\n",
       "    <tr>\n",
       "      <th>2</th>\n",
       "      <td>18981</td>\n",
       "      <td>Serie A</td>\n",
       "      <td>2019-09-05</td>\n",
       "      <td>3</td>\n",
       "      <td>Juventus</td>\n",
       "      <td>https://www.whoscored.com/Teams/87/Show/Italy-...</td>\n",
       "      <td>87</td>\n",
       "      <td>2</td>\n",
       "      <td>2</td>\n",
       "      <td>0</td>\n",
       "      <td>0</td>\n",
       "      <td>5</td>\n",
       "      <td>3</td>\n",
       "      <td>2</td>\n",
       "      <td>6</td>\n",
       "      <td>05-09-2019</td>\n",
       "    </tr>\n",
       "    <tr>\n",
       "      <th>3</th>\n",
       "      <td>18982</td>\n",
       "      <td>Serie A</td>\n",
       "      <td>2019-09-05</td>\n",
       "      <td>4</td>\n",
       "      <td>Bologna</td>\n",
       "      <td>https://www.whoscored.com/Teams/71/Show/Italy-...</td>\n",
       "      <td>71</td>\n",
       "      <td>2</td>\n",
       "      <td>1</td>\n",
       "      <td>1</td>\n",
       "      <td>0</td>\n",
       "      <td>2</td>\n",
       "      <td>1</td>\n",
       "      <td>1</td>\n",
       "      <td>4</td>\n",
       "      <td>05-09-2019</td>\n",
       "    </tr>\n",
       "    <tr>\n",
       "      <th>4</th>\n",
       "      <td>18983</td>\n",
       "      <td>Serie A</td>\n",
       "      <td>2019-09-05</td>\n",
       "      <td>5</td>\n",
       "      <td>Verona</td>\n",
       "      <td>https://www.whoscored.com/Teams/76/Show/Italy-...</td>\n",
       "      <td>76</td>\n",
       "      <td>2</td>\n",
       "      <td>1</td>\n",
       "      <td>1</td>\n",
       "      <td>0</td>\n",
       "      <td>2</td>\n",
       "      <td>1</td>\n",
       "      <td>1</td>\n",
       "      <td>4</td>\n",
       "      <td>05-09-2019</td>\n",
       "    </tr>\n",
       "    <tr>\n",
       "      <th>5</th>\n",
       "      <td>18984</td>\n",
       "      <td>Serie A</td>\n",
       "      <td>2019-09-05</td>\n",
       "      <td>6</td>\n",
       "      <td>Lazio</td>\n",
       "      <td>https://www.whoscored.com/Teams/77/Show/Italy-...</td>\n",
       "      <td>77</td>\n",
       "      <td>2</td>\n",
       "      <td>1</td>\n",
       "      <td>1</td>\n",
       "      <td>0</td>\n",
       "      <td>4</td>\n",
       "      <td>1</td>\n",
       "      <td>3</td>\n",
       "      <td>4</td>\n",
       "      <td>05-09-2019</td>\n",
       "    </tr>\n",
       "    <tr>\n",
       "      <th>6</th>\n",
       "      <td>18985</td>\n",
       "      <td>Serie A</td>\n",
       "      <td>2019-09-05</td>\n",
       "      <td>7</td>\n",
       "      <td>Genoa</td>\n",
       "      <td>https://www.whoscored.com/Teams/278/Show/Italy...</td>\n",
       "      <td>278</td>\n",
       "      <td>2</td>\n",
       "      <td>1</td>\n",
       "      <td>1</td>\n",
       "      <td>0</td>\n",
       "      <td>5</td>\n",
       "      <td>4</td>\n",
       "      <td>1</td>\n",
       "      <td>4</td>\n",
       "      <td>05-09-2019</td>\n",
       "    </tr>\n",
       "    <tr>\n",
       "      <th>7</th>\n",
       "      <td>18986</td>\n",
       "      <td>Serie A</td>\n",
       "      <td>2019-09-05</td>\n",
       "      <td>8</td>\n",
       "      <td>Parma Calcio 1913</td>\n",
       "      <td>https://www.whoscored.com/Teams/24341/Show/Ita...</td>\n",
       "      <td>24341</td>\n",
       "      <td>2</td>\n",
       "      <td>1</td>\n",
       "      <td>0</td>\n",
       "      <td>1</td>\n",
       "      <td>3</td>\n",
       "      <td>2</td>\n",
       "      <td>1</td>\n",
       "      <td>3</td>\n",
       "      <td>05-09-2019</td>\n",
       "    </tr>\n",
       "    <tr>\n",
       "      <th>8</th>\n",
       "      <td>18987</td>\n",
       "      <td>Serie A</td>\n",
       "      <td>2019-09-05</td>\n",
       "      <td>9</td>\n",
       "      <td>AC Milan</td>\n",
       "      <td>https://www.whoscored.com/Teams/80/Show/Italy-...</td>\n",
       "      <td>80</td>\n",
       "      <td>2</td>\n",
       "      <td>1</td>\n",
       "      <td>0</td>\n",
       "      <td>1</td>\n",
       "      <td>1</td>\n",
       "      <td>1</td>\n",
       "      <td>0</td>\n",
       "      <td>3</td>\n",
       "      <td>05-09-2019</td>\n",
       "    </tr>\n",
       "    <tr>\n",
       "      <th>9</th>\n",
       "      <td>18988</td>\n",
       "      <td>Serie A</td>\n",
       "      <td>2019-09-05</td>\n",
       "      <td>10</td>\n",
       "      <td>Udinese</td>\n",
       "      <td>https://www.whoscored.com/Teams/86/Show/Italy-...</td>\n",
       "      <td>86</td>\n",
       "      <td>2</td>\n",
       "      <td>1</td>\n",
       "      <td>0</td>\n",
       "      <td>1</td>\n",
       "      <td>2</td>\n",
       "      <td>3</td>\n",
       "      <td>-1</td>\n",
       "      <td>3</td>\n",
       "      <td>05-09-2019</td>\n",
       "    </tr>\n",
       "    <tr>\n",
       "      <th>10</th>\n",
       "      <td>18989</td>\n",
       "      <td>Serie A</td>\n",
       "      <td>2019-09-05</td>\n",
       "      <td>11</td>\n",
       "      <td>Brescia</td>\n",
       "      <td>https://www.whoscored.com/Teams/144/Show/Italy...</td>\n",
       "      <td>144</td>\n",
       "      <td>2</td>\n",
       "      <td>1</td>\n",
       "      <td>0</td>\n",
       "      <td>1</td>\n",
       "      <td>1</td>\n",
       "      <td>1</td>\n",
       "      <td>0</td>\n",
       "      <td>3</td>\n",
       "      <td>05-09-2019</td>\n",
       "    </tr>\n",
       "    <tr>\n",
       "      <th>11</th>\n",
       "      <td>18990</td>\n",
       "      <td>Serie A</td>\n",
       "      <td>2019-09-05</td>\n",
       "      <td>12</td>\n",
       "      <td>Sassuolo</td>\n",
       "      <td>https://www.whoscored.com/Teams/2889/Show/Ital...</td>\n",
       "      <td>2889</td>\n",
       "      <td>2</td>\n",
       "      <td>1</td>\n",
       "      <td>0</td>\n",
       "      <td>1</td>\n",
       "      <td>5</td>\n",
       "      <td>3</td>\n",
       "      <td>2</td>\n",
       "      <td>3</td>\n",
       "      <td>05-09-2019</td>\n",
       "    </tr>\n",
       "    <tr>\n",
       "      <th>12</th>\n",
       "      <td>18991</td>\n",
       "      <td>Serie A</td>\n",
       "      <td>2019-09-05</td>\n",
       "      <td>13</td>\n",
       "      <td>Napoli</td>\n",
       "      <td>https://www.whoscored.com/Teams/276/Show/Italy...</td>\n",
       "      <td>276</td>\n",
       "      <td>2</td>\n",
       "      <td>1</td>\n",
       "      <td>0</td>\n",
       "      <td>1</td>\n",
       "      <td>7</td>\n",
       "      <td>7</td>\n",
       "      <td>0</td>\n",
       "      <td>3</td>\n",
       "      <td>05-09-2019</td>\n",
       "    </tr>\n",
       "    <tr>\n",
       "      <th>13</th>\n",
       "      <td>18992</td>\n",
       "      <td>Serie A</td>\n",
       "      <td>2019-09-05</td>\n",
       "      <td>14</td>\n",
       "      <td>Atalanta</td>\n",
       "      <td>https://www.whoscored.com/Teams/300/Show/Italy...</td>\n",
       "      <td>300</td>\n",
       "      <td>2</td>\n",
       "      <td>1</td>\n",
       "      <td>0</td>\n",
       "      <td>1</td>\n",
       "      <td>5</td>\n",
       "      <td>5</td>\n",
       "      <td>0</td>\n",
       "      <td>3</td>\n",
       "      <td>05-09-2019</td>\n",
       "    </tr>\n",
       "    <tr>\n",
       "      <th>14</th>\n",
       "      <td>18993</td>\n",
       "      <td>Serie A</td>\n",
       "      <td>2019-09-05</td>\n",
       "      <td>15</td>\n",
       "      <td>Roma</td>\n",
       "      <td>https://www.whoscored.com/Teams/84/Show/Italy-...</td>\n",
       "      <td>84</td>\n",
       "      <td>2</td>\n",
       "      <td>0</td>\n",
       "      <td>2</td>\n",
       "      <td>0</td>\n",
       "      <td>4</td>\n",
       "      <td>4</td>\n",
       "      <td>0</td>\n",
       "      <td>2</td>\n",
       "      <td>05-09-2019</td>\n",
       "    </tr>\n",
       "    <tr>\n",
       "      <th>15</th>\n",
       "      <td>18994</td>\n",
       "      <td>Serie A</td>\n",
       "      <td>2019-09-05</td>\n",
       "      <td>16</td>\n",
       "      <td>Fiorentina</td>\n",
       "      <td>https://www.whoscored.com/Teams/73/Show/Italy-...</td>\n",
       "      <td>73</td>\n",
       "      <td>2</td>\n",
       "      <td>0</td>\n",
       "      <td>0</td>\n",
       "      <td>2</td>\n",
       "      <td>4</td>\n",
       "      <td>6</td>\n",
       "      <td>-2</td>\n",
       "      <td>0</td>\n",
       "      <td>05-09-2019</td>\n",
       "    </tr>\n",
       "    <tr>\n",
       "      <th>16</th>\n",
       "      <td>18995</td>\n",
       "      <td>Serie A</td>\n",
       "      <td>2019-09-05</td>\n",
       "      <td>17</td>\n",
       "      <td>SPAL 2013</td>\n",
       "      <td>https://www.whoscored.com/Teams/1502/Show/Ital...</td>\n",
       "      <td>1502</td>\n",
       "      <td>2</td>\n",
       "      <td>0</td>\n",
       "      <td>0</td>\n",
       "      <td>2</td>\n",
       "      <td>2</td>\n",
       "      <td>4</td>\n",
       "      <td>-2</td>\n",
       "      <td>0</td>\n",
       "      <td>05-09-2019</td>\n",
       "    </tr>\n",
       "    <tr>\n",
       "      <th>17</th>\n",
       "      <td>18996</td>\n",
       "      <td>Serie A</td>\n",
       "      <td>2019-09-05</td>\n",
       "      <td>18</td>\n",
       "      <td>Cagliari</td>\n",
       "      <td>https://www.whoscored.com/Teams/78/Show/Italy-...</td>\n",
       "      <td>78</td>\n",
       "      <td>2</td>\n",
       "      <td>0</td>\n",
       "      <td>0</td>\n",
       "      <td>2</td>\n",
       "      <td>1</td>\n",
       "      <td>3</td>\n",
       "      <td>-2</td>\n",
       "      <td>0</td>\n",
       "      <td>05-09-2019</td>\n",
       "    </tr>\n",
       "    <tr>\n",
       "      <th>18</th>\n",
       "      <td>18997</td>\n",
       "      <td>Serie A</td>\n",
       "      <td>2019-09-05</td>\n",
       "      <td>19</td>\n",
       "      <td>Lecce</td>\n",
       "      <td>https://www.whoscored.com/Teams/79/Show/Italy-...</td>\n",
       "      <td>79</td>\n",
       "      <td>2</td>\n",
       "      <td>0</td>\n",
       "      <td>0</td>\n",
       "      <td>2</td>\n",
       "      <td>0</td>\n",
       "      <td>5</td>\n",
       "      <td>-5</td>\n",
       "      <td>0</td>\n",
       "      <td>05-09-2019</td>\n",
       "    </tr>\n",
       "    <tr>\n",
       "      <th>19</th>\n",
       "      <td>18998</td>\n",
       "      <td>Serie A</td>\n",
       "      <td>2019-09-05</td>\n",
       "      <td>20</td>\n",
       "      <td>Sampdoria</td>\n",
       "      <td>https://www.whoscored.com/Teams/271/Show/Italy...</td>\n",
       "      <td>271</td>\n",
       "      <td>2</td>\n",
       "      <td>0</td>\n",
       "      <td>0</td>\n",
       "      <td>2</td>\n",
       "      <td>1</td>\n",
       "      <td>7</td>\n",
       "      <td>-6</td>\n",
       "      <td>0</td>\n",
       "      <td>05-09-2019</td>\n",
       "    </tr>\n",
       "  </tbody>\n",
       "</table>\n",
       "</div>"
      ],
      "text/plain": [
       "       id tournament        date  no          team_name  \\\n",
       "0   18979    Serie A  2019-09-05   1              Inter   \n",
       "1   18980    Serie A  2019-09-05   2             Torino   \n",
       "2   18981    Serie A  2019-09-05   3           Juventus   \n",
       "3   18982    Serie A  2019-09-05   4            Bologna   \n",
       "4   18983    Serie A  2019-09-05   5             Verona   \n",
       "5   18984    Serie A  2019-09-05   6              Lazio   \n",
       "6   18985    Serie A  2019-09-05   7              Genoa   \n",
       "7   18986    Serie A  2019-09-05   8  Parma Calcio 1913   \n",
       "8   18987    Serie A  2019-09-05   9           AC Milan   \n",
       "9   18988    Serie A  2019-09-05  10            Udinese   \n",
       "10  18989    Serie A  2019-09-05  11            Brescia   \n",
       "11  18990    Serie A  2019-09-05  12           Sassuolo   \n",
       "12  18991    Serie A  2019-09-05  13             Napoli   \n",
       "13  18992    Serie A  2019-09-05  14           Atalanta   \n",
       "14  18993    Serie A  2019-09-05  15               Roma   \n",
       "15  18994    Serie A  2019-09-05  16         Fiorentina   \n",
       "16  18995    Serie A  2019-09-05  17          SPAL 2013   \n",
       "17  18996    Serie A  2019-09-05  18           Cagliari   \n",
       "18  18997    Serie A  2019-09-05  19              Lecce   \n",
       "19  18998    Serie A  2019-09-05  20          Sampdoria   \n",
       "\n",
       "                                            team_link  team_id  played  win  \\\n",
       "0   https://www.whoscored.com/Teams/75/Show/Italy-...       75       2    2   \n",
       "1   https://www.whoscored.com/Teams/72/Show/Italy-...       72       2    2   \n",
       "2   https://www.whoscored.com/Teams/87/Show/Italy-...       87       2    2   \n",
       "3   https://www.whoscored.com/Teams/71/Show/Italy-...       71       2    1   \n",
       "4   https://www.whoscored.com/Teams/76/Show/Italy-...       76       2    1   \n",
       "5   https://www.whoscored.com/Teams/77/Show/Italy-...       77       2    1   \n",
       "6   https://www.whoscored.com/Teams/278/Show/Italy...      278       2    1   \n",
       "7   https://www.whoscored.com/Teams/24341/Show/Ita...    24341       2    1   \n",
       "8   https://www.whoscored.com/Teams/80/Show/Italy-...       80       2    1   \n",
       "9   https://www.whoscored.com/Teams/86/Show/Italy-...       86       2    1   \n",
       "10  https://www.whoscored.com/Teams/144/Show/Italy...      144       2    1   \n",
       "11  https://www.whoscored.com/Teams/2889/Show/Ital...     2889       2    1   \n",
       "12  https://www.whoscored.com/Teams/276/Show/Italy...      276       2    1   \n",
       "13  https://www.whoscored.com/Teams/300/Show/Italy...      300       2    1   \n",
       "14  https://www.whoscored.com/Teams/84/Show/Italy-...       84       2    0   \n",
       "15  https://www.whoscored.com/Teams/73/Show/Italy-...       73       2    0   \n",
       "16  https://www.whoscored.com/Teams/1502/Show/Ital...     1502       2    0   \n",
       "17  https://www.whoscored.com/Teams/78/Show/Italy-...       78       2    0   \n",
       "18  https://www.whoscored.com/Teams/79/Show/Italy-...       79       2    0   \n",
       "19  https://www.whoscored.com/Teams/271/Show/Italy...      271       2    0   \n",
       "\n",
       "    draw  loss  goals_for  goals_against  goals_difference  points       sdate  \n",
       "0      0     0          6              1                 5       6  05-09-2019  \n",
       "1      0     0          5              3                 2       6  05-09-2019  \n",
       "2      0     0          5              3                 2       6  05-09-2019  \n",
       "3      1     0          2              1                 1       4  05-09-2019  \n",
       "4      1     0          2              1                 1       4  05-09-2019  \n",
       "5      1     0          4              1                 3       4  05-09-2019  \n",
       "6      1     0          5              4                 1       4  05-09-2019  \n",
       "7      0     1          3              2                 1       3  05-09-2019  \n",
       "8      0     1          1              1                 0       3  05-09-2019  \n",
       "9      0     1          2              3                -1       3  05-09-2019  \n",
       "10     0     1          1              1                 0       3  05-09-2019  \n",
       "11     0     1          5              3                 2       3  05-09-2019  \n",
       "12     0     1          7              7                 0       3  05-09-2019  \n",
       "13     0     1          5              5                 0       3  05-09-2019  \n",
       "14     2     0          4              4                 0       2  05-09-2019  \n",
       "15     0     2          4              6                -2       0  05-09-2019  \n",
       "16     0     2          2              4                -2       0  05-09-2019  \n",
       "17     0     2          1              3                -2       0  05-09-2019  \n",
       "18     0     2          0              5                -5       0  05-09-2019  \n",
       "19     0     2          1              7                -6       0  05-09-2019  "
      ]
     },
     "execution_count": 9,
     "metadata": {},
     "output_type": "execute_result"
    }
   ],
   "source": [
    "tournament_teams"
   ]
  },
  {
   "cell_type": "code",
   "execution_count": 10,
   "metadata": {},
   "outputs": [],
   "source": [
    "whole_matches = queryUtils.list_all_tournament_matches_since_qdate(tournament_match_name,queryUtils.beforeXmonth(6))"
   ]
  },
  {
   "cell_type": "code",
   "execution_count": 11,
   "metadata": {},
   "outputs": [
    {
     "data": {
      "text/html": [
       "<div>\n",
       "<style scoped>\n",
       "    .dataframe tbody tr th:only-of-type {\n",
       "        vertical-align: middle;\n",
       "    }\n",
       "\n",
       "    .dataframe tbody tr th {\n",
       "        vertical-align: top;\n",
       "    }\n",
       "\n",
       "    .dataframe thead th {\n",
       "        text-align: right;\n",
       "    }\n",
       "</style>\n",
       "<table border=\"1\" class=\"dataframe\">\n",
       "  <thead>\n",
       "    <tr style=\"text-align: right;\">\n",
       "      <th></th>\n",
       "      <th>match_id</th>\n",
       "      <th>tournament</th>\n",
       "      <th>date</th>\n",
       "      <th>home_team_id</th>\n",
       "      <th>home_team_name</th>\n",
       "      <th>away_team_id</th>\n",
       "      <th>away_team_name</th>\n",
       "      <th>full_time_home_goals</th>\n",
       "      <th>full_time_away_goals</th>\n",
       "      <th>half_time_home_goals</th>\n",
       "      <th>half_time_away_goals</th>\n",
       "      <th>result</th>\n",
       "      <th>sdate</th>\n",
       "    </tr>\n",
       "  </thead>\n",
       "  <tbody>\n",
       "    <tr>\n",
       "      <th>0</th>\n",
       "      <td>1415703</td>\n",
       "      <td>Serie A</td>\n",
       "      <td>2019-09-01</td>\n",
       "      <td>300</td>\n",
       "      <td>Atalanta</td>\n",
       "      <td>72</td>\n",
       "      <td>Torino</td>\n",
       "      <td>2</td>\n",
       "      <td>3</td>\n",
       "      <td>None</td>\n",
       "      <td>None</td>\n",
       "      <td>L</td>\n",
       "      <td>01-09-2019</td>\n",
       "    </tr>\n",
       "    <tr>\n",
       "      <th>1</th>\n",
       "      <td>1415705</td>\n",
       "      <td>Serie A</td>\n",
       "      <td>2019-09-01</td>\n",
       "      <td>78</td>\n",
       "      <td>Cagliari</td>\n",
       "      <td>75</td>\n",
       "      <td>Inter</td>\n",
       "      <td>1</td>\n",
       "      <td>2</td>\n",
       "      <td>None</td>\n",
       "      <td>None</td>\n",
       "      <td>W</td>\n",
       "      <td>01-09-2019</td>\n",
       "    </tr>\n",
       "    <tr>\n",
       "      <th>2</th>\n",
       "      <td>1415706</td>\n",
       "      <td>Serie A</td>\n",
       "      <td>2019-09-01</td>\n",
       "      <td>278</td>\n",
       "      <td>Genoa</td>\n",
       "      <td>73</td>\n",
       "      <td>Fiorentina</td>\n",
       "      <td>2</td>\n",
       "      <td>1</td>\n",
       "      <td>None</td>\n",
       "      <td>None</td>\n",
       "      <td>W</td>\n",
       "      <td>01-09-2019</td>\n",
       "    </tr>\n",
       "    <tr>\n",
       "      <th>3</th>\n",
       "      <td>1415708</td>\n",
       "      <td>Serie A</td>\n",
       "      <td>2019-09-01</td>\n",
       "      <td>77</td>\n",
       "      <td>Lazio</td>\n",
       "      <td>84</td>\n",
       "      <td>Roma</td>\n",
       "      <td>1</td>\n",
       "      <td>1</td>\n",
       "      <td>None</td>\n",
       "      <td>None</td>\n",
       "      <td>D</td>\n",
       "      <td>01-09-2019</td>\n",
       "    </tr>\n",
       "    <tr>\n",
       "      <th>4</th>\n",
       "      <td>1415709</td>\n",
       "      <td>Serie A</td>\n",
       "      <td>2019-09-01</td>\n",
       "      <td>79</td>\n",
       "      <td>Lecce</td>\n",
       "      <td>76</td>\n",
       "      <td>Verona</td>\n",
       "      <td>0</td>\n",
       "      <td>1</td>\n",
       "      <td>None</td>\n",
       "      <td>None</td>\n",
       "      <td>L</td>\n",
       "      <td>01-09-2019</td>\n",
       "    </tr>\n",
       "  </tbody>\n",
       "</table>\n",
       "</div>"
      ],
      "text/plain": [
       "   match_id tournament        date  home_team_id home_team_name  away_team_id  \\\n",
       "0   1415703    Serie A  2019-09-01           300       Atalanta            72   \n",
       "1   1415705    Serie A  2019-09-01            78       Cagliari            75   \n",
       "2   1415706    Serie A  2019-09-01           278          Genoa            73   \n",
       "3   1415708    Serie A  2019-09-01            77          Lazio            84   \n",
       "4   1415709    Serie A  2019-09-01            79          Lecce            76   \n",
       "\n",
       "  away_team_name  full_time_home_goals  full_time_away_goals  \\\n",
       "0         Torino                     2                     3   \n",
       "1          Inter                     1                     2   \n",
       "2     Fiorentina                     2                     1   \n",
       "3           Roma                     1                     1   \n",
       "4         Verona                     0                     1   \n",
       "\n",
       "  half_time_home_goals half_time_away_goals result       sdate  \n",
       "0                 None                 None      L  01-09-2019  \n",
       "1                 None                 None      W  01-09-2019  \n",
       "2                 None                 None      W  01-09-2019  \n",
       "3                 None                 None      D  01-09-2019  \n",
       "4                 None                 None      L  01-09-2019  "
      ]
     },
     "execution_count": 11,
     "metadata": {},
     "output_type": "execute_result"
    }
   ],
   "source": [
    "whole_matches.head()"
   ]
  },
  {
   "cell_type": "code",
   "execution_count": 12,
   "metadata": {},
   "outputs": [],
   "source": [
    "matchespd = whole_matches.iloc[:,[0,1,2,3,5,7,8,11,12]]"
   ]
  },
  {
   "cell_type": "code",
   "execution_count": 13,
   "metadata": {},
   "outputs": [
    {
     "data": {
      "text/html": [
       "<div>\n",
       "<style scoped>\n",
       "    .dataframe tbody tr th:only-of-type {\n",
       "        vertical-align: middle;\n",
       "    }\n",
       "\n",
       "    .dataframe tbody tr th {\n",
       "        vertical-align: top;\n",
       "    }\n",
       "\n",
       "    .dataframe thead th {\n",
       "        text-align: right;\n",
       "    }\n",
       "</style>\n",
       "<table border=\"1\" class=\"dataframe\">\n",
       "  <thead>\n",
       "    <tr style=\"text-align: right;\">\n",
       "      <th></th>\n",
       "      <th>match_id</th>\n",
       "      <th>tournament</th>\n",
       "      <th>date</th>\n",
       "      <th>home_team_id</th>\n",
       "      <th>away_team_id</th>\n",
       "      <th>full_time_home_goals</th>\n",
       "      <th>full_time_away_goals</th>\n",
       "      <th>result</th>\n",
       "      <th>sdate</th>\n",
       "    </tr>\n",
       "  </thead>\n",
       "  <tbody>\n",
       "    <tr>\n",
       "      <th>0</th>\n",
       "      <td>1415703</td>\n",
       "      <td>Serie A</td>\n",
       "      <td>2019-09-01</td>\n",
       "      <td>300</td>\n",
       "      <td>72</td>\n",
       "      <td>2</td>\n",
       "      <td>3</td>\n",
       "      <td>L</td>\n",
       "      <td>01-09-2019</td>\n",
       "    </tr>\n",
       "    <tr>\n",
       "      <th>1</th>\n",
       "      <td>1415705</td>\n",
       "      <td>Serie A</td>\n",
       "      <td>2019-09-01</td>\n",
       "      <td>78</td>\n",
       "      <td>75</td>\n",
       "      <td>1</td>\n",
       "      <td>2</td>\n",
       "      <td>W</td>\n",
       "      <td>01-09-2019</td>\n",
       "    </tr>\n",
       "    <tr>\n",
       "      <th>2</th>\n",
       "      <td>1415706</td>\n",
       "      <td>Serie A</td>\n",
       "      <td>2019-09-01</td>\n",
       "      <td>278</td>\n",
       "      <td>73</td>\n",
       "      <td>2</td>\n",
       "      <td>1</td>\n",
       "      <td>W</td>\n",
       "      <td>01-09-2019</td>\n",
       "    </tr>\n",
       "    <tr>\n",
       "      <th>3</th>\n",
       "      <td>1415708</td>\n",
       "      <td>Serie A</td>\n",
       "      <td>2019-09-01</td>\n",
       "      <td>77</td>\n",
       "      <td>84</td>\n",
       "      <td>1</td>\n",
       "      <td>1</td>\n",
       "      <td>D</td>\n",
       "      <td>01-09-2019</td>\n",
       "    </tr>\n",
       "    <tr>\n",
       "      <th>4</th>\n",
       "      <td>1415709</td>\n",
       "      <td>Serie A</td>\n",
       "      <td>2019-09-01</td>\n",
       "      <td>79</td>\n",
       "      <td>76</td>\n",
       "      <td>0</td>\n",
       "      <td>1</td>\n",
       "      <td>L</td>\n",
       "      <td>01-09-2019</td>\n",
       "    </tr>\n",
       "  </tbody>\n",
       "</table>\n",
       "</div>"
      ],
      "text/plain": [
       "   match_id tournament        date  home_team_id  away_team_id  \\\n",
       "0   1415703    Serie A  2019-09-01           300            72   \n",
       "1   1415705    Serie A  2019-09-01            78            75   \n",
       "2   1415706    Serie A  2019-09-01           278            73   \n",
       "3   1415708    Serie A  2019-09-01            77            84   \n",
       "4   1415709    Serie A  2019-09-01            79            76   \n",
       "\n",
       "   full_time_home_goals  full_time_away_goals result       sdate  \n",
       "0                     2                     3      L  01-09-2019  \n",
       "1                     1                     2      W  01-09-2019  \n",
       "2                     2                     1      W  01-09-2019  \n",
       "3                     1                     1      D  01-09-2019  \n",
       "4                     0                     1      L  01-09-2019  "
      ]
     },
     "execution_count": 13,
     "metadata": {},
     "output_type": "execute_result"
    }
   ],
   "source": [
    "matchespd.head()"
   ]
  },
  {
   "cell_type": "code",
   "execution_count": 14,
   "metadata": {},
   "outputs": [
    {
     "name": "stdout",
     "output_type": "stream",
     "text": [
      "[1415703 'Serie A' datetime.date(2019, 9, 1) 300 72 2 3 'L' '01-09-2019']\n",
      "[1415705 'Serie A' datetime.date(2019, 9, 1) 78 75 1 2 'W' '01-09-2019']\n",
      "[1415706 'Serie A' datetime.date(2019, 9, 1) 278 73 2 1 'W' '01-09-2019']\n",
      "[1415708 'Serie A' datetime.date(2019, 9, 1) 77 84 1 1 'D' '01-09-2019']\n",
      "[1415709 'Serie A' datetime.date(2019, 9, 1) 79 76 0 1 'L' '01-09-2019']\n",
      "[1415711 'Serie A' datetime.date(2019, 9, 1) 2889 271 4 1 'L' '01-09-2019']\n",
      "[1415712 'Serie A' datetime.date(2019, 9, 1) 86 24341 1 3 'W' '01-09-2019']\n",
      "[1415707 'Serie A' datetime.date(2019, 8, 31) 87 276 4 3 'L' '31-08-2019']\n",
      "[1415710 'Serie A' datetime.date(2019, 8, 31) 80 144 1 0 'W' '31-08-2019']\n",
      "[1415704 'Serie A' datetime.date(2019, 8, 30) 71 1502 1 0 'W' '30-08-2019']\n",
      "[1415696 'Serie A' datetime.date(2019, 8, 26) 75 79 4 0 'L' '26-08-2019']\n",
      "[1415693 'Serie A' datetime.date(2019, 8, 25) 78 144 0 1 'W' '25-08-2019']\n",
      "[1415695 'Serie A' datetime.date(2019, 8, 25) 76 71 1 1 'D' '25-08-2019']\n",
      "[1415698 'Serie A' datetime.date(2019, 8, 25) 84 278 3 3 'D' '25-08-2019']\n",
      "[1415699 'Serie A' datetime.date(2019, 8, 25) 271 77 0 3 'L' '25-08-2019']\n",
      "[1415700 'Serie A' datetime.date(2019, 8, 25) 1502 300 2 3 'W'\n",
      " '25-08-2019']\n",
      "[1415701 'Serie A' datetime.date(2019, 8, 25) 72 2889 2 1 'L' '25-08-2019']\n",
      "[1415702 'Serie A' datetime.date(2019, 8, 25) 86 80 1 0 'L' '25-08-2019']\n",
      "[1415694 'Serie A' datetime.date(2019, 8, 24) 73 276 3 4 'W' '24-08-2019']\n",
      "[1415697 'Serie A' datetime.date(2019, 8, 24) 24341 87 0 1 'L'\n",
      " '24-08-2019']\n",
      "[1318025 'Serie A' datetime.date(2019, 5, 26) 300 2889 3 1 'L'\n",
      " '26-05-2019']\n",
      "[1318027 'Serie A' datetime.date(2019, 5, 26) 78 86 1 2 'W' '26-05-2019']\n",
      "[1318028 'Serie A' datetime.date(2019, 5, 26) 73 278 0 0 'D' '26-05-2019']\n",
      "[1318030 'Serie A' datetime.date(2019, 5, 26) 75 272 2 1 'L' '26-05-2019']\n",
      "[1318031 'Serie A' datetime.date(2019, 5, 26) 84 24341 2 1 'L'\n",
      " '26-05-2019']\n",
      "[1318032 'Serie A' datetime.date(2019, 5, 26) 271 87 2 0 'W' '26-05-2019']\n",
      "[1318033 'Serie A' datetime.date(2019, 5, 26) 1502 80 2 3 'L' '26-05-2019']\n",
      "[1318034 'Serie A' datetime.date(2019, 5, 26) 72 77 3 1 'L' '26-05-2019']\n",
      "[1318026 'Serie A' datetime.date(2019, 5, 25) 71 276 3 2 'W' '25-05-2019']\n",
      "[1318029 'Serie A' datetime.date(2019, 5, 25) 2732 267 0 0 'D'\n",
      " '25-05-2019']\n",
      "[1318019 'Serie A' datetime.date(2019, 5, 20) 77 71 3 3 'D' '20-05-2019']\n",
      "[1318014 'Serie A' datetime.date(2019, 5, 19) 267 271 0 0 'D' '19-05-2019']\n",
      "[1318016 'Serie A' datetime.date(2019, 5, 19) 272 72 4 1 'W' '19-05-2019']\n",
      "[1318018 'Serie A' datetime.date(2019, 5, 19) 87 300 1 1 'D' '19-05-2019']\n",
      "[1318020 'Serie A' datetime.date(2019, 5, 19) 80 2732 2 0 'L' '19-05-2019']\n",
      "[1318021 'Serie A' datetime.date(2019, 5, 19) 276 75 4 1 'W' '19-05-2019']\n",
      "[1318022 'Serie A' datetime.date(2019, 5, 19) 24341 73 1 0 'W'\n",
      " '19-05-2019']\n",
      "[1318017 'Serie A' datetime.date(2019, 5, 18) 278 78 1 1 'D' '18-05-2019']\n",
      "[1318023 'Serie A' datetime.date(2019, 5, 18) 2889 84 0 0 'D' '18-05-2019']\n",
      "[1318024 'Serie A' datetime.date(2019, 5, 18) 86 1502 3 2 'W' '18-05-2019']\n",
      "[1318001 'Serie A' datetime.date(2019, 5, 13) 71 24341 4 1 'W'\n",
      " '13-05-2019']\n",
      "[1318005 'Serie A' datetime.date(2019, 5, 13) 75 267 2 0 'L' '13-05-2019']\n",
      "[1318004 'Serie A' datetime.date(2019, 5, 12) 2732 86 1 3 'L' '12-05-2019']\n",
      "[1318006 'Serie A' datetime.date(2019, 5, 12) 84 87 2 0 'L' '12-05-2019']\n",
      "[1318008 'Serie A' datetime.date(2019, 5, 12) 271 272 1 2 'W' '12-05-2019']\n",
      "[1318010 'Serie A' datetime.date(2019, 5, 12) 1502 276 1 2 'W'\n",
      " '12-05-2019']\n",
      "[1318012 'Serie A' datetime.date(2019, 5, 12) 72 2889 3 2 'L' '12-05-2019']\n",
      "[1318000 'Serie A' datetime.date(2019, 5, 11) 300 278 2 1 'W' '11-05-2019']\n",
      "[1318002 'Serie A' datetime.date(2019, 5, 11) 78 77 1 2 'W' '11-05-2019']\n",
      "[1318003 'Serie A' datetime.date(2019, 5, 11) 73 80 0 1 'W' '11-05-2019']\n",
      "[1318011 'Serie A' datetime.date(2019, 5, 6) 80 71 2 1 'L' '06-05-2019']\n",
      "[1317996 'Serie A' datetime.date(2019, 5, 5) 272 73 1 0 'W' '05-05-2019']\n",
      "[1317997 'Serie A' datetime.date(2019, 5, 5) 278 84 1 1 'D' '05-05-2019']\n",
      "[1317998 'Serie A' datetime.date(2019, 5, 5) 2889 2732 2 2 'D'\n",
      " '05-05-2019']\n",
      "[1318009 'Serie A' datetime.date(2019, 5, 5) 77 300 1 3 'W' '05-05-2019']\n",
      "[1318013 'Serie A' datetime.date(2019, 5, 5) 276 78 2 1 'W' '05-05-2019']\n",
      "[1318015 'Serie A' datetime.date(2019, 5, 5) 24341 271 3 3 'D'\n",
      " '05-05-2019']\n",
      "[1317995 'Serie A' datetime.date(2019, 5, 4) 267 1502 0 4 'L' '04-05-2019']\n",
      "[1317999 'Serie A' datetime.date(2019, 5, 4) 86 75 0 0 'D' '04-05-2019']\n",
      "[1318007 'Serie A' datetime.date(2019, 5, 3) 87 72 1 1 'D' '03-05-2019']\n",
      "[1317985 'Serie A' datetime.date(2019, 4, 29) 300 86 2 0 'L' '29-04-2019']\n",
      "[1317988 'Serie A' datetime.date(2019, 4, 29) 73 2889 0 1 'W' '29-04-2019']\n",
      "[1317987 'Serie A' datetime.date(2019, 4, 28) 267 24341 1 1 'D'\n",
      " '28-04-2019']\n",
      "[1317989 'Serie A' datetime.date(2019, 4, 28) 2732 276 0 2 'L'\n",
      " '28-04-2019']\n",
      "[1317992 'Serie A' datetime.date(2019, 4, 28) 271 77 1 2 'L' '28-04-2019']\n",
      "[1317993 'Serie A' datetime.date(2019, 4, 28) 1502 278 1 1 'D'\n",
      " '28-04-2019']\n",
      "[1317994 'Serie A' datetime.date(2019, 4, 28) 72 80 2 0 'L' '28-04-2019']\n",
      "[1317986 'Serie A' datetime.date(2019, 4, 27) 71 272 3 1 'L' '27-04-2019']\n",
      "[1317990 'Serie A' datetime.date(2019, 4, 27) 75 87 1 1 'D' '27-04-2019']\n",
      "[1317991 'Serie A' datetime.date(2019, 4, 27) 84 78 3 0 'W' '27-04-2019']\n",
      "[1317982 'Serie A' datetime.date(2019, 4, 22) 276 300 1 2 'L' '22-04-2019']\n",
      "[1317975 'Serie A' datetime.date(2019, 4, 20) 71 271 3 0 'L' '20-04-2019']\n",
      "[1317976 'Serie A' datetime.date(2019, 4, 20) 78 2732 1 0 'L' '20-04-2019']\n",
      "[1317977 'Serie A' datetime.date(2019, 4, 20) 272 1502 2 4 'L'\n",
      " '20-04-2019']\n",
      "[1317978 'Serie A' datetime.date(2019, 4, 20) 278 72 0 1 'L' '20-04-2019']\n",
      "[1317979 'Serie A' datetime.date(2019, 4, 20) 75 84 1 1 'D' '20-04-2019']\n",
      "[1317980 'Serie A' datetime.date(2019, 4, 20) 87 73 2 1 'W' '20-04-2019']\n",
      "[1317981 'Serie A' datetime.date(2019, 4, 20) 77 267 1 2 'W' '20-04-2019']\n",
      "[1317983 'Serie A' datetime.date(2019, 4, 20) 24341 80 1 1 'D'\n",
      " '20-04-2019']\n",
      "[1317984 'Serie A' datetime.date(2019, 4, 20) 86 2889 1 1 'D' '20-04-2019']\n",
      "[1317752 'Serie A' datetime.date(2019, 4, 17) 77 86 2 0 'L' '17-04-2019']\n",
      "[1317965 'Serie A' datetime.date(2019, 4, 15) 300 272 0 0 'D' '15-04-2019']\n",
      "[1317966 'Serie A' datetime.date(2019, 4, 14) 267 276 1 3 'L' '14-04-2019']\n",
      "[1317967 'Serie A' datetime.date(2019, 4, 14) 73 71 0 0 'D' '14-04-2019']\n",
      "[1317968 'Serie A' datetime.date(2019, 4, 14) 2732 75 1 3 'L' '14-04-2019']\n",
      "[1317971 'Serie A' datetime.date(2019, 4, 14) 271 278 2 0 'W' '14-04-2019']\n",
      "[1317972 'Serie A' datetime.date(2019, 4, 14) 2889 24341 0 0 'D'\n",
      " '14-04-2019']\n",
      "[1317974 'Serie A' datetime.date(2019, 4, 14) 72 78 1 1 'D' '14-04-2019']\n",
      "[1317969 'Serie A' datetime.date(2019, 4, 13) 80 77 1 0 'L' '13-04-2019']\n",
      "[1317970 'Serie A' datetime.date(2019, 4, 13) 84 86 1 0 'L' '13-04-2019']\n",
      "[1317973 'Serie A' datetime.date(2019, 4, 13) 1502 87 2 1 'L' '13-04-2019']\n",
      "[1317955 'Serie A' datetime.date(2019, 4, 8) 71 267 3 0 'W' '08-04-2019']\n",
      "[1317956 'Serie A' datetime.date(2019, 4, 7) 78 1502 2 1 'L' '07-04-2019']\n",
      "[1317957 'Serie A' datetime.date(2019, 4, 7) 73 2732 0 1 'W' '07-04-2019']\n",
      "[1317958 'Serie A' datetime.date(2019, 4, 7) 75 300 0 0 'D' '07-04-2019']\n",
      "[1317960 'Serie A' datetime.date(2019, 4, 7) 77 2889 2 2 'D' '07-04-2019']\n",
      "[1317961 'Serie A' datetime.date(2019, 4, 7) 276 278 1 1 'D' '07-04-2019']\n",
      "[1317964 'Serie A' datetime.date(2019, 4, 7) 86 272 3 2 'L' '07-04-2019']\n",
      "[1317959 'Serie A' datetime.date(2019, 4, 6) 87 80 2 1 'W' '06-04-2019']\n",
      "[1317962 'Serie A' datetime.date(2019, 4, 6) 24341 72 0 0 'D' '06-04-2019']\n",
      "[1317963 'Serie A' datetime.date(2019, 4, 6) 271 84 0 1 'L' '06-04-2019']\n",
      "[1317945 'Serie A' datetime.date(2019, 4, 4) 300 71 4 1 'L' '04-04-2019']\n",
      "[1317952 'Serie A' datetime.date(2019, 4, 4) 2889 267 4 0 'W' '04-04-2019']\n",
      "[1317947 'Serie A' datetime.date(2019, 4, 3) 272 276 2 1 'W' '03-04-2019']\n",
      "[1317948 'Serie A' datetime.date(2019, 4, 3) 2732 24341 3 2 'W'\n",
      " '03-04-2019']\n",
      "[1317949 'Serie A' datetime.date(2019, 4, 3) 278 75 0 4 'L' '03-04-2019']\n",
      "[1317951 'Serie A' datetime.date(2019, 4, 3) 84 73 2 2 'D' '03-04-2019']\n",
      "[1317953 'Serie A' datetime.date(2019, 4, 3) 1502 77 1 0 'L' '03-04-2019']\n",
      "[1317954 'Serie A' datetime.date(2019, 4, 3) 72 271 2 1 'L' '03-04-2019']\n",
      "[1317946 'Serie A' datetime.date(2019, 4, 2) 78 87 0 2 'W' '02-04-2019']\n",
      "[1317950 'Serie A' datetime.date(2019, 4, 2) 80 86 1 1 'D' '02-04-2019']\n",
      "[1317889 'Serie A' datetime.date(2019, 3, 31) 71 2889 2 1 'W' '31-03-2019']\n",
      "[1317891 'Serie A' datetime.date(2019, 3, 31) 73 72 1 1 'D' '31-03-2019']\n",
      "[1317892 'Serie A' datetime.date(2019, 3, 31) 2732 1502 0 1 'L'\n",
      " '31-03-2019']\n",
      "[1317893 'Serie A' datetime.date(2019, 3, 31) 75 77 0 1 'W' '31-03-2019']\n",
      "[1317895 'Serie A' datetime.date(2019, 3, 31) 24341 300 1 3 'W'\n",
      " '31-03-2019']\n",
      "[1317896 'Serie A' datetime.date(2019, 3, 31) 84 276 1 4 'W' '31-03-2019']\n",
      "[1317894 'Serie A' datetime.date(2019, 3, 30) 87 272 1 0 'L' '30-03-2019']\n",
      "[1317897 'Serie A' datetime.date(2019, 3, 30) 271 80 1 0 'W' '30-03-2019']\n",
      "[1317898 'Serie A' datetime.date(2019, 3, 30) 86 278 2 0 'W' '30-03-2019']\n",
      "[1317890 'Serie A' datetime.date(2019, 3, 29) 267 78 0 3 'L' '29-03-2019']\n"
     ]
    }
   ],
   "source": [
    "for match in matchespd.values:\n",
    "    print(match)"
   ]
  },
  {
   "cell_type": "code",
   "execution_count": 15,
   "metadata": {},
   "outputs": [
    {
     "data": {
      "text/plain": [
       "(121, 9)"
      ]
     },
     "execution_count": 15,
     "metadata": {},
     "output_type": "execute_result"
    }
   ],
   "source": [
    " np.shape(matchespd)"
   ]
  },
  {
   "cell_type": "code",
   "execution_count": 18,
   "metadata": {},
   "outputs": [
    {
     "name": "stdout",
     "output_type": "stream",
     "text": [
      "1415703\n",
      "[ 7.05  3.   21.   56.2  79.4  28.    6.92 18.    6.4   9.2  13.6   6.92\n",
      "  8.9  17.4  11.9  11.4   2.3 ]\n",
      "[ 7.16  2.   10.   39.8  67.1  24.    6.79 12.1   3.7   8.2  14.7   6.79\n",
      " 13.6  17.8  11.9  17.7   1.9 ]\n",
      "['L']\n",
      "my first time\n",
      "None h_offensive_h\n",
      "None a_summary_o\n",
      "None a_summary_o\n",
      "None a_summary_o\n",
      "None h_summary_o\n"
     ]
    }
   ],
   "source": [
    "w = pd.DataFrame()\n",
    "home = None\n",
    "away = None\n",
    "t = None\n",
    "for match in matchespd.values:\n",
    "    match_id = match[0]\n",
    "    tournament = match[1]\n",
    "    date = match[2]\n",
    "    home_id = match[3]\n",
    "    away_id = match[4]\n",
    "    result = match[7]\n",
    "    h_summary_o = queryUtils.query_team_statistic_last_record_data_before_date(tournament,home_id,queryUtils.type_Summary,queryUtils.view_Overall,date)\n",
    "    a_summary_o = queryUtils.query_team_statistic_last_record_data_before_date(tournament,away_id,queryUtils.type_Summary,queryUtils.view_Overall,date)\n",
    "    \n",
    "    h_offensive_h = queryUtils.query_team_statistic_last_record_data_before_date(tournament,home_id,queryUtils.type_Offensive,queryUtils.view_Home,date)\n",
    "    h_defensive_h = queryUtils.query_team_statistic_last_record_data_before_date(tournament,home_id,queryUtils.type_Defensive,queryUtils.view_Home,date)\n",
    "    \n",
    "    a_offensive_a = queryUtils.query_team_statistic_last_record_data_before_date(tournament,away_id,queryUtils.type_Offensive,queryUtils.view_Away,date)\n",
    "    a_defensive_a = queryUtils.query_team_statistic_last_record_data_before_date(tournament,away_id,queryUtils.type_Defensive,queryUtils.view_Away,date)\n",
    "    \n",
    "#     home\n",
    "    if(h_summary_o is None):\n",
    "        print(\"None h_summary_o\")\n",
    "        continue\n",
    "    if(h_offensive_h is None):\n",
    "        print(\"None h_offensive_h\")\n",
    "        continue\n",
    "    if(h_defensive_h is None):\n",
    "        print(\"None h_defensive_h\")\n",
    "        continue\n",
    "    \n",
    "#     away\n",
    "    if(a_summary_o is None):\n",
    "        print(\"None a_summary_o\")\n",
    "        continue\n",
    "    if(a_offensive_a is None):\n",
    "        print(\"None a_offensive_a\")\n",
    "        continue\n",
    "    if(a_defensive_a is None):\n",
    "        print(\"None a_defensive_a\")\n",
    "        continue\n",
    "    \n",
    "#     remove apps\n",
    "    h_summary_o = np.delete(h_summary_o,1)\n",
    "    h_offensive_h = np.delete(h_offensive_h,1)\n",
    "    h_defensive_h = np.delete(h_defensive_h,1)\n",
    "    \n",
    "    a_summary_o = np.delete(a_summary_o,1)\n",
    "    a_offensive_a = np.delete(a_offensive_a,1)\n",
    "    a_defensive_a = np.delete(a_defensive_a,1)\n",
    "    \n",
    "#     samething as below\n",
    "#     phso = pd.DataFrame(h_summary_o)\n",
    "# #     phso = phso.drop(index = [1])\n",
    "#     pa = phso.values.reshape(1,len(phso))\n",
    "#     pa = pd.DataFrame(pa)\n",
    "\n",
    "#     phoh = pd.DataFrame(h_offensive_h)\n",
    "# #     phoh = phoh.drop(index = [1])\n",
    "#     pb = phoh.values.reshape(1,len(phoh))\n",
    "#     pb = pd.DataFrame(pb)\n",
    "    \n",
    "#     phdh = pd.DataFrame(h_defensive_h)\n",
    "# #     phdh = phdh.drop(index = [1])\n",
    "#     pc = phdh.values.reshape(1,len(phdh))\n",
    "#     pc = pd.DataFrame(pc)\n",
    "\n",
    "#     x = pd.concat([pa,pb,pc],axis =1)\n",
    "#     w = pd.concat([w,x],axis = 0)\n",
    "\n",
    "\n",
    "    h_r = np.append(h_summary_o,h_offensive_h)\n",
    "    h_r = np.append(h_r,h_defensive_h)\n",
    "    \n",
    "    a_r = np.append(a_summary_o,a_offensive_a)\n",
    "    a_r = np.append(a_r,a_defensive_a)\n",
    "    \n",
    "    if(home is None):\n",
    "        home = np.array(h_r)\n",
    "        away = np.array(a_r)\n",
    "        t = np.array([result])\n",
    "        print(match_id)\n",
    "        print(home)\n",
    "        print(away)\n",
    "        print(t)\n",
    "        print(\"my first time\")\n",
    "    else:\n",
    "        b = np.array(h_r)\n",
    "        home = np.vstack((home,b))\n",
    "        d = np.array(a_r)\n",
    "        away = np.vstack((away,d))\n",
    "        r = np.array(result)\n",
    "        t = np.vstack((t,r))\n",
    "        \n",
    "   "
   ]
  },
  {
   "cell_type": "code",
   "execution_count": 19,
   "metadata": {},
   "outputs": [
    {
     "data": {
      "text/plain": [
       "(116, 17)"
      ]
     },
     "execution_count": 19,
     "metadata": {},
     "output_type": "execute_result"
    }
   ],
   "source": [
    "np.shape(away)"
   ]
  },
  {
   "cell_type": "code",
   "execution_count": 20,
   "metadata": {},
   "outputs": [
    {
     "data": {
      "text/plain": [
       "(116, 1)"
      ]
     },
     "execution_count": 20,
     "metadata": {},
     "output_type": "execute_result"
    }
   ],
   "source": [
    "np.shape(t)"
   ]
  },
  {
   "cell_type": "code",
   "execution_count": 22,
   "metadata": {},
   "outputs": [
    {
     "data": {
      "text/plain": [
       "(116, 17)"
      ]
     },
     "execution_count": 22,
     "metadata": {},
     "output_type": "execute_result"
    }
   ],
   "source": [
    "np.shape(home)"
   ]
  },
  {
   "cell_type": "code",
   "execution_count": 23,
   "metadata": {},
   "outputs": [],
   "source": [
    "z = w.dropna()"
   ]
  },
  {
   "cell_type": "code",
   "execution_count": 24,
   "metadata": {},
   "outputs": [
    {
     "data": {
      "text/plain": [
       "(0, 0)"
      ]
     },
     "execution_count": 24,
     "metadata": {},
     "output_type": "execute_result"
    }
   ],
   "source": [
    "np.shape(z)"
   ]
  },
  {
   "cell_type": "code",
   "execution_count": 25,
   "metadata": {},
   "outputs": [
    {
     "name": "stdout",
     "output_type": "stream",
     "text": [
      "Empty DataFrame\n",
      "Columns: []\n",
      "Index: []\n"
     ]
    }
   ],
   "source": [
    "print(z)"
   ]
  },
  {
   "cell_type": "code",
   "execution_count": 26,
   "metadata": {},
   "outputs": [
    {
     "data": {
      "text/plain": [
       "6"
      ]
     },
     "execution_count": 26,
     "metadata": {},
     "output_type": "execute_result"
    }
   ],
   "source": [
    "len(h_summary_o)"
   ]
  },
  {
   "cell_type": "code",
   "execution_count": 27,
   "metadata": {},
   "outputs": [
    {
     "data": {
      "text/plain": [
       "(116, 17)"
      ]
     },
     "execution_count": 27,
     "metadata": {},
     "output_type": "execute_result"
    }
   ],
   "source": [
    "np.shape(home)"
   ]
  },
  {
   "cell_type": "code",
   "execution_count": 28,
   "metadata": {},
   "outputs": [
    {
     "data": {
      "text/plain": [
       "array([ 7.05,  3.  , 21.  , 56.2 , 79.4 , 28.  ,  6.92, 18.  ,  6.4 ,\n",
       "        9.2 , 13.6 ,  6.92,  8.9 , 17.4 , 11.9 , 11.4 ,  2.3 ])"
      ]
     },
     "execution_count": 28,
     "metadata": {},
     "output_type": "execute_result"
    }
   ],
   "source": [
    "home[0]"
   ]
  },
  {
   "cell_type": "code",
   "execution_count": 29,
   "metadata": {},
   "outputs": [
    {
     "data": {
      "text/plain": [
       "array([ 7.16,  2.  , 10.  , 39.8 , 67.1 , 24.  ,  6.79, 12.1 ,  3.7 ,\n",
       "        8.2 , 14.7 ,  6.79, 13.6 , 17.8 , 11.9 , 17.7 ,  1.9 ])"
      ]
     },
     "execution_count": 29,
     "metadata": {},
     "output_type": "execute_result"
    }
   ],
   "source": [
    "away[0]"
   ]
  },
  {
   "cell_type": "code",
   "execution_count": 30,
   "metadata": {},
   "outputs": [
    {
     "name": "stdout",
     "output_type": "stream",
     "text": [
      "[-0.11  1.   11.   16.4  12.3   4.    0.13  5.9   2.7   1.   -1.1   0.13\n",
      " -4.7  -0.4   0.   -6.3   0.4 ]\n"
     ]
    }
   ],
   "source": [
    "X = home - away\n",
    "print(X[0])"
   ]
  },
  {
   "cell_type": "code",
   "execution_count": 31,
   "metadata": {},
   "outputs": [
    {
     "data": {
      "text/plain": [
       "(116, 17)"
      ]
     },
     "execution_count": 31,
     "metadata": {},
     "output_type": "execute_result"
    }
   ],
   "source": [
    "np.shape(X)"
   ]
  },
  {
   "cell_type": "code",
   "execution_count": 32,
   "metadata": {},
   "outputs": [],
   "source": [
    "from sklearn.tree import DecisionTreeClassifier"
   ]
  },
  {
   "cell_type": "code",
   "execution_count": 33,
   "metadata": {},
   "outputs": [],
   "source": [
    "from sklearn.model_selection import train_test_split"
   ]
  },
  {
   "cell_type": "code",
   "execution_count": 34,
   "metadata": {},
   "outputs": [],
   "source": [
    "X_train,X_test,y_train,y_test = train_test_split(X,t,test_size=0.3,random_state = 1, stratify = t)"
   ]
  },
  {
   "cell_type": "code",
   "execution_count": 35,
   "metadata": {},
   "outputs": [],
   "source": [
    "tree = DecisionTreeClassifier(criterion='gini',max_depth=5,random_state=1)"
   ]
  },
  {
   "cell_type": "code",
   "execution_count": 37,
   "metadata": {},
   "outputs": [
    {
     "data": {
      "text/plain": [
       "DecisionTreeClassifier(class_weight=None, criterion='gini', max_depth=5,\n",
       "                       max_features=None, max_leaf_nodes=None,\n",
       "                       min_impurity_decrease=0.0, min_impurity_split=None,\n",
       "                       min_samples_leaf=1, min_samples_split=2,\n",
       "                       min_weight_fraction_leaf=0.0, presort=False,\n",
       "                       random_state=1, splitter='best')"
      ]
     },
     "execution_count": 37,
     "metadata": {},
     "output_type": "execute_result"
    }
   ],
   "source": [
    "tree.fit(X_train,y_train)"
   ]
  },
  {
   "cell_type": "code",
   "execution_count": 38,
   "metadata": {},
   "outputs": [],
   "source": [
    "import matplotlib.pyplot as plt"
   ]
  },
  {
   "cell_type": "code",
   "execution_count": 41,
   "metadata": {},
   "outputs": [
    {
     "data": {
      "text/plain": [
       "(81, 1)"
      ]
     },
     "execution_count": 41,
     "metadata": {},
     "output_type": "execute_result"
    }
   ],
   "source": [
    "np.shape(y_train)"
   ]
  },
  {
   "cell_type": "code",
   "execution_count": 42,
   "metadata": {},
   "outputs": [
    {
     "data": {
      "text/plain": [
       "(35, 1)"
      ]
     },
     "execution_count": 42,
     "metadata": {},
     "output_type": "execute_result"
    }
   ],
   "source": [
    "np.shape(y_test)"
   ]
  },
  {
   "cell_type": "code",
   "execution_count": 45,
   "metadata": {},
   "outputs": [],
   "source": [
    "from matplotlib.colors import ListedColormap\n",
    "\n",
    "\n",
    "def plot_decision_regions(X, y, classifier, resolution=0.02):\n",
    "\n",
    "    # setup marker generator and color map\n",
    "    markers = ('s', 'x', 'o', '^', 'v')\n",
    "    colors = ('red', 'blue', 'lightgreen', 'gray', 'cyan')\n",
    "    cmap = ListedColormap(colors[:len(np.unique(y))])\n",
    "\n",
    "    # plot the decision surface\n",
    "    x1_min, x1_max = X[:, 0].min() - 1, X[:, 0].max() + 1\n",
    "    x2_min, x2_max = X[:, 1].min() - 1, X[:, 1].max() + 1\n",
    "    xx1, xx2 = np.meshgrid(np.arange(x1_min, x1_max, resolution),\n",
    "                           np.arange(x2_min, x2_max, resolution))\n",
    "    Z = classifier.predict(np.array([xx1.ravel(), xx2.ravel()]).T)\n",
    "    Z = Z.reshape(xx1.shape)\n",
    "    plt.contourf(xx1, xx2, Z, alpha=0.3, cmap=cmap)\n",
    "    plt.xlim(xx1.min(), xx1.max())\n",
    "    plt.ylim(xx2.min(), xx2.max())\n",
    "\n",
    "    # plot class samples\n",
    "    for idx, cl in enumerate(np.unique(y)):\n",
    "        plt.scatter(x=X[y == cl, 0], \n",
    "                    y=X[y == cl, 1],\n",
    "                    alpha=0.8, \n",
    "                    c=colors[idx],\n",
    "                    marker=markers[idx], \n",
    "                    label=cl, \n",
    "                    edgecolor='black')"
   ]
  },
  {
   "cell_type": "code",
   "execution_count": 46,
   "metadata": {},
   "outputs": [],
   "source": [
    "y_pred = tree.predict(X_test)"
   ]
  },
  {
   "cell_type": "code",
   "execution_count": 47,
   "metadata": {},
   "outputs": [
    {
     "name": "stdout",
     "output_type": "stream",
     "text": [
      "['D' 'L' 'D' 'D' 'L' 'W' 'D' 'W' 'W' 'L' 'D' 'L' 'L' 'D' 'W' 'D' 'D' 'D'\n",
      " 'D' 'W' 'W' 'L' 'D' 'W' 'L' 'L' 'D' 'L' 'L' 'L' 'D' 'W' 'W' 'D' 'L']\n"
     ]
    }
   ],
   "source": [
    "print(y_pred)"
   ]
  },
  {
   "cell_type": "code",
   "execution_count": 49,
   "metadata": {},
   "outputs": [
    {
     "name": "stdout",
     "output_type": "stream",
     "text": [
      "[['L']\n",
      " ['W']\n",
      " ['L']\n",
      " ['D']\n",
      " ['D']\n",
      " ['W']\n",
      " ['D']\n",
      " ['L']\n",
      " ['W']\n",
      " ['D']\n",
      " ['W']\n",
      " ['D']\n",
      " ['W']\n",
      " ['W']\n",
      " ['L']\n",
      " ['L']\n",
      " ['L']\n",
      " ['L']\n",
      " ['W']\n",
      " ['W']\n",
      " ['W']\n",
      " ['W']\n",
      " ['D']\n",
      " ['L']\n",
      " ['D']\n",
      " ['L']\n",
      " ['L']\n",
      " ['W']\n",
      " ['D']\n",
      " ['L']\n",
      " ['L']\n",
      " ['L']\n",
      " ['L']\n",
      " ['D']\n",
      " ['W']]\n"
     ]
    }
   ],
   "source": [
    "print(y_test)"
   ]
  },
  {
   "cell_type": "code",
   "execution_count": 58,
   "metadata": {},
   "outputs": [
    {
     "data": {
      "text/plain": [
       "0.32816326530612244"
      ]
     },
     "execution_count": 58,
     "metadata": {},
     "output_type": "execute_result"
    }
   ],
   "source": [
    "np.mean(y_pred == y_test)"
   ]
  },
  {
   "cell_type": "code",
   "execution_count": 55,
   "metadata": {},
   "outputs": [
    {
     "data": {
      "text/plain": [
       "'D'"
      ]
     },
     "execution_count": 55,
     "metadata": {},
     "output_type": "execute_result"
    }
   ],
   "source": [
    "y_pred[3]"
   ]
  },
  {
   "cell_type": "code",
   "execution_count": 56,
   "metadata": {},
   "outputs": [
    {
     "data": {
      "text/plain": [
       "'D'"
      ]
     },
     "execution_count": 56,
     "metadata": {},
     "output_type": "execute_result"
    }
   ],
   "source": [
    "y_test[3][0]"
   ]
  },
  {
   "cell_type": "code",
   "execution_count": null,
   "metadata": {},
   "outputs": [],
   "source": []
  }
 ],
 "metadata": {
  "kernelspec": {
   "display_name": "Python 3",
   "language": "python",
   "name": "python3"
  },
  "language_info": {
   "codemirror_mode": {
    "name": "ipython",
    "version": 3
   },
   "file_extension": ".py",
   "mimetype": "text/x-python",
   "name": "python",
   "nbconvert_exporter": "python",
   "pygments_lexer": "ipython3",
   "version": "3.7.3"
  }
 },
 "nbformat": 4,
 "nbformat_minor": 2
}
